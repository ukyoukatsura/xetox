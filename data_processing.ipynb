{
 "cells": [
  {
   "cell_type": "code",
   "execution_count": 40,
   "metadata": {},
   "outputs": [],
   "source": [
    "import pandas as pd\n",
    "import codecs"
   ]
  },
  {
   "cell_type": "code",
   "execution_count": 41,
   "metadata": {},
   "outputs": [],
   "source": [
    "with codecs.open(\"./data/train_data.csv\", \"r\", \"Shift-JIS\", \"ignore\") as file:\n",
    "    df = pd.read_csv(file, delimiter=\",\", names=[\"年\",\"月\",\"日\",\"馬名\",\"馬番\",\"枠番\",\"年齢\",\"性別\",\"馬体重\",\"斤量\",\"場所\",\"頭数\",\"距離\",\"馬場状態\",\"天候\",\"人気\",\"単勝オッズ\",\"確定着順\",\"タイムS\",\"着差タイム\",\"トラックコード\"])"
   ]
  },
  {
   "cell_type": "code",
   "execution_count": 42,
   "metadata": {},
   "outputs": [],
   "source": [
    "base_time = pd.to_datetime('00.00.0', format='%M.%S.%f')\n",
    "df['タイムS'] = pd.to_datetime(df['タイムS'], format='%M.%S.%f') - base_time\n",
    "df['タイムS'] = df['タイムS'].dt.total_seconds()"
   ]
  },
  {
   "cell_type": "code",
   "execution_count": 53,
   "metadata": {
    "scrolled": true
   },
   "outputs": [],
   "source": [
    "df_preprocess = df.replace({\"性別\" : {\"牡\":1, \"牝\":2, \"セ\":3}, \"場所\" : {\"札幌\":1, \"函館\":2, \"福島\":3, \"新潟\":4, \"東京\":5, \"中山\":6, \"中京\":7, \"京都\":8, \"阪神\":9, \"小倉\":10}, \"馬場状態\" : {\"良\":1, \"稍\":2, \"重\":3, \"不\":4}, \"天候\" : {\"晴\":1, \"曇\":2, \"雨\":3, \"小雨\":4, \"小雪\":5, \"雪\":6}, \"着差タイム\" : {\"----\":-100}})"
   ]
  },
  {
   "cell_type": "code",
   "execution_count": 54,
   "metadata": {
    "scrolled": true
   },
   "outputs": [
    {
     "name": "stdout",
     "output_type": "stream",
     "text": [
      "         年  月   日         馬名  馬番  枠番  年齢  性別    馬体重    斤量  ...  頭数    距離  \\\n",
      "0       20  1  18  レインボーメイプル   1   1   3   2  472.0  53.0  ...  13  1000   \n",
      "1       20  1  18   キタノシャンティ   2   2   3   1  486.0  53.0  ...  13  1000   \n",
      "2       20  1  18   テイエムピカピカ   3   3   3   2  460.0  54.0  ...  13  1000   \n",
      "3       20  1  18     ヨドノエール   4   4   3   1  438.0  53.0  ...  13  1000   \n",
      "4       20  1  18   トーセンシーバス   5   4   3   1  436.0  53.0  ...  13  1000   \n",
      "...     .. ..  ..        ...  ..  ..  ..  ..    ...   ...  ...  ..   ...   \n",
      "598852  20  1  19       クラシコ  12   6   8   1  498.0  57.0  ...  16  1200   \n",
      "598853  20  1  19   ウイナーズロード  13   7   6   2  442.0  55.0  ...  16  1200   \n",
      "598854  20  1  19  エムオータイショウ  14   7   4   1  506.0  56.0  ...  16  1200   \n",
      "598855  20  1  19  レジーナファースト  15   8   5   2  460.0  55.0  ...  16  1200   \n",
      "598856  20  1  19    バルコラベーロ  16   8   6   1  500.0  57.0  ...  16  1200   \n",
      "\n",
      "        馬場状態  天候    人気  単勝オッズ  確定着順  タイムS  着差タイム トラックコード  \n",
      "0          2   2   7.0   17.6     5  60.0    0.4       1  \n",
      "1          2   2  12.0  190.6     9  60.4    0.8       1  \n",
      "2          2   2  11.0   68.2    10  60.9    1.3       1  \n",
      "3          2   2   3.0    5.6    11  62.1    2.5       1  \n",
      "4          2   2   8.0   18.0     8  60.4    0.8       1  \n",
      "...      ...  ..   ...    ...   ...   ...    ...     ...  \n",
      "598852     1   2   3.0    6.8     7  72.5    1.1       1  \n",
      "598853     1   2  16.0  316.0    14  73.6    2.2       1  \n",
      "598854     1   2   4.0    8.3     4  72.2    0.8       1  \n",
      "598855     1   2   6.0   10.1     9  72.6    1.2       1  \n",
      "598856     1   2  14.0  116.2    11  72.9    1.5       1  \n",
      "\n",
      "[598857 rows x 21 columns]\n"
     ]
    }
   ],
   "source": [
    "print(df_preprocess)"
   ]
  },
  {
   "cell_type": "code",
   "execution_count": 55,
   "metadata": {},
   "outputs": [],
   "source": [
    "df_erase = df_preprocess.drop(columns='馬名')"
   ]
  },
  {
   "cell_type": "code",
   "execution_count": 56,
   "metadata": {},
   "outputs": [
    {
     "name": "stdout",
     "output_type": "stream",
     "text": [
      "         年  月   日  馬番  枠番  年齢  性別    馬体重    斤量  場所  頭数    距離  馬場状態  天候    人気  \\\n",
      "0       20  1  18   1   1   3   2  472.0  53.0  10  13  1000     2   2   7.0   \n",
      "1       20  1  18   2   2   3   1  486.0  53.0  10  13  1000     2   2  12.0   \n",
      "2       20  1  18   3   3   3   2  460.0  54.0  10  13  1000     2   2  11.0   \n",
      "3       20  1  18   4   4   3   1  438.0  53.0  10  13  1000     2   2   3.0   \n",
      "4       20  1  18   5   4   3   1  436.0  53.0  10  13  1000     2   2   8.0   \n",
      "...     .. ..  ..  ..  ..  ..  ..    ...   ...  ..  ..   ...   ...  ..   ...   \n",
      "598852  20  1  19  12   6   8   1  498.0  57.0   8  16  1200     1   2   3.0   \n",
      "598853  20  1  19  13   7   6   2  442.0  55.0   8  16  1200     1   2  16.0   \n",
      "598854  20  1  19  14   7   4   1  506.0  56.0   8  16  1200     1   2   4.0   \n",
      "598855  20  1  19  15   8   5   2  460.0  55.0   8  16  1200     1   2   6.0   \n",
      "598856  20  1  19  16   8   6   1  500.0  57.0   8  16  1200     1   2  14.0   \n",
      "\n",
      "        単勝オッズ  確定着順  タイムS 着差タイム  トラックコード  \n",
      "0        17.6     5  60.0   0.4        1  \n",
      "1       190.6     9  60.4   0.8        1  \n",
      "2        68.2    10  60.9   1.3        1  \n",
      "3         5.6    11  62.1   2.5        1  \n",
      "4        18.0     8  60.4   0.8        1  \n",
      "...       ...   ...   ...   ...      ...  \n",
      "598852    6.8     7  72.5   1.1        1  \n",
      "598853  316.0    14  73.6   2.2        1  \n",
      "598854    8.3     4  72.2   0.8        1  \n",
      "598855   10.1     9  72.6   1.2        1  \n",
      "598856  116.2    11  72.9   1.5        1  \n",
      "\n",
      "[598857 rows x 20 columns]\n"
     ]
    }
   ],
   "source": [
    "print(df_erase)"
   ]
  },
  {
   "cell_type": "code",
   "execution_count": 58,
   "metadata": {
    "scrolled": true
   },
   "outputs": [
    {
     "name": "stdout",
     "output_type": "stream",
     "text": [
      "年            int64\n",
      "月            int64\n",
      "日            int64\n",
      "馬番           int64\n",
      "枠番           int64\n",
      "年齢           int64\n",
      "性別           int64\n",
      "馬体重        float64\n",
      "斤量         float64\n",
      "場所           int64\n",
      "頭数           int64\n",
      "距離           int64\n",
      "馬場状態         int64\n",
      "天候           int64\n",
      "人気         float64\n",
      "単勝オッズ      float64\n",
      "確定着順         int64\n",
      "タイムS       float64\n",
      "着差タイム       object\n",
      "トラックコード      int64\n",
      "dtype: object\n"
     ]
    }
   ],
   "source": [
    "print(df_erase.dtypes)"
   ]
  },
  {
   "cell_type": "code",
   "execution_count": 64,
   "metadata": {},
   "outputs": [],
   "source": [
    "df_float = df_erase.astype(float)"
   ]
  },
  {
   "cell_type": "code",
   "execution_count": 65,
   "metadata": {},
   "outputs": [
    {
     "name": "stdout",
     "output_type": "stream",
     "text": [
      "年          float64\n",
      "月          float64\n",
      "日          float64\n",
      "馬番         float64\n",
      "枠番         float64\n",
      "年齢         float64\n",
      "性別         float64\n",
      "馬体重        float64\n",
      "斤量         float64\n",
      "場所         float64\n",
      "頭数         float64\n",
      "距離         float64\n",
      "馬場状態       float64\n",
      "天候         float64\n",
      "人気         float64\n",
      "単勝オッズ      float64\n",
      "確定着順       float64\n",
      "タイムS       float64\n",
      "着差タイム      float64\n",
      "トラックコード    float64\n",
      "dtype: object\n"
     ]
    }
   ],
   "source": [
    "print(df_float.dtypes)"
   ]
  },
  {
   "cell_type": "code",
   "execution_count": 67,
   "metadata": {},
   "outputs": [],
   "source": [
    "df_float = df_float.fillna(0.0)"
   ]
  },
  {
   "cell_type": "code",
   "execution_count": 68,
   "metadata": {},
   "outputs": [],
   "source": [
    "df_float.to_csv(\"./data/train_data_utf_8_preprocessing.csv\")"
   ]
  },
  {
   "cell_type": "code",
   "execution_count": 19,
   "metadata": {
    "scrolled": true
   },
   "outputs": [
    {
     "name": "stdout",
     "output_type": "stream",
     "text": [
      "         年  月   日         馬名  馬番  枠番  年齢 性別    馬体重    斤量  ...  頭数    距離  馬場状態  \\\n",
      "0       20  1  18  レインボーメイプル   1   1   3  牝  472.0  53.0  ...  13  1000     稍   \n",
      "1       20  1  18   キタノシャンティ   2   2   3  牡  486.0  53.0  ...  13  1000     稍   \n",
      "2       20  1  18   テイエムピカピカ   3   3   3  牝  460.0  54.0  ...  13  1000     稍   \n",
      "3       20  1  18     ヨドノエール   4   4   3  牡  438.0  53.0  ...  13  1000     稍   \n",
      "4       20  1  18   トーセンシーバス   5   4   3  牡  436.0  53.0  ...  13  1000     稍   \n",
      "...     .. ..  ..        ...  ..  ..  .. ..    ...   ...  ...  ..   ...   ...   \n",
      "598852  20  1  19       クラシコ  12   6   8  牡  498.0  57.0  ...  16  1200     良   \n",
      "598853  20  1  19   ウイナーズロード  13   7   6  牝  442.0  55.0  ...  16  1200     良   \n",
      "598854  20  1  19  エムオータイショウ  14   7   4  牡  506.0  56.0  ...  16  1200     良   \n",
      "598855  20  1  19  レジーナファースト  15   8   5  牝  460.0  55.0  ...  16  1200     良   \n",
      "598856  20  1  19    バルコラベーロ  16   8   6  牡  500.0  57.0  ...  16  1200     良   \n",
      "\n",
      "       天候    人気  単勝オッズ  確定着順    タイムS 着差タイム トラックコード  \n",
      "0       曇   7.0   17.6     5  1.00.0   0.4       1  \n",
      "1       曇  12.0  190.6     9  1.00.4   0.8       1  \n",
      "2       曇  11.0   68.2    10  1.00.9   1.3       1  \n",
      "3       曇   3.0    5.6    11  1.02.1   2.5       1  \n",
      "4       曇   8.0   18.0     8  1.00.4   0.8       1  \n",
      "...    ..   ...    ...   ...     ...   ...     ...  \n",
      "598852  曇   3.0    6.8     7  1.12.5   1.1       1  \n",
      "598853  曇  16.0  316.0    14  1.13.6   2.2       1  \n",
      "598854  曇   4.0    8.3     4  1.12.2   0.8       1  \n",
      "598855  曇   6.0   10.1     9  1.12.6   1.2       1  \n",
      "598856  曇  14.0  116.2    11  1.12.9   1.5       1  \n",
      "\n",
      "[2794 rows x 21 columns]\n"
     ]
    }
   ],
   "source": [
    "df_20 = df.query(\"年 > 19\")\n",
    "print(df.query(\"年 > 19\"))"
   ]
  }
 ],
 "metadata": {
  "kernelspec": {
   "display_name": "Python 3",
   "language": "python",
   "name": "python3"
  },
  "language_info": {
   "codemirror_mode": {
    "name": "ipython",
    "version": 3
   },
   "file_extension": ".py",
   "mimetype": "text/x-python",
   "name": "python",
   "nbconvert_exporter": "python",
   "pygments_lexer": "ipython3",
   "version": "3.7.4"
  }
 },
 "nbformat": 4,
 "nbformat_minor": 2
}
