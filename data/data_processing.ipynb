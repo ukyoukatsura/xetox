{
 "cells": [
  {
   "cell_type": "code",
   "execution_count": 215,
   "metadata": {},
   "outputs": [],
   "source": [
    "import pandas as pd\n",
    "import codecs\n",
    "import numpy as np"
   ]
  },
  {
   "cell_type": "markdown",
   "metadata": {},
   "source": [
    "元データの読み込み&欠損値(NAN)の削除"
   ]
  },
  {
   "cell_type": "code",
   "execution_count": 216,
   "metadata": {
    "scrolled": true
   },
   "outputs": [
    {
     "name": "stdout",
     "output_type": "stream",
     "text": [
      "         年  月   日         馬名  馬番  枠番  年齢 性別    馬体重    斤量  ...  頭数    距離  馬場状態  \\\n",
      "0       20  1  18  レインボーメイプル   1   1   3  牝  472.0  53.0  ...  13  1000     稍   \n",
      "1       20  1  18   キタノシャンティ   2   2   3  牡  486.0  53.0  ...  13  1000     稍   \n",
      "2       20  1  18   テイエムピカピカ   3   3   3  牝  460.0  54.0  ...  13  1000     稍   \n",
      "3       20  1  18     ヨドノエール   4   4   3  牡  438.0  53.0  ...  13  1000     稍   \n",
      "4       20  1  18   トーセンシーバス   5   4   3  牡  436.0  53.0  ...  13  1000     稍   \n",
      "...     .. ..  ..        ...  ..  ..  .. ..    ...   ...  ...  ..   ...   ...   \n",
      "596652  20  1  19       クラシコ  12   6   8  牡  498.0  57.0  ...  16  1200     良   \n",
      "596653  20  1  19   ウイナーズロード  13   7   6  牝  442.0  55.0  ...  16  1200     良   \n",
      "596654  20  1  19  エムオータイショウ  14   7   4  牡  506.0  56.0  ...  16  1200     良   \n",
      "596655  20  1  19  レジーナファースト  15   8   5  牝  460.0  55.0  ...  16  1200     良   \n",
      "596656  20  1  19    バルコラベーロ  16   8   6  牡  500.0  57.0  ...  16  1200     良   \n",
      "\n",
      "       天候    人気  単勝オッズ  確定着順    タイムS 着差タイム トラックコード  \n",
      "0       曇   7.0   17.6     5  1.00.0   0.4       1  \n",
      "1       曇  12.0  190.6     9  1.00.4   0.8       1  \n",
      "2       曇  11.0   68.2    10  1.00.9   1.3       1  \n",
      "3       曇   3.0    5.6    11  1.02.1   2.5       1  \n",
      "4       曇   8.0   18.0     8  1.00.4   0.8       1  \n",
      "...    ..   ...    ...   ...     ...   ...     ...  \n",
      "596652  曇   3.0    6.8     7  1.12.5   1.1       1  \n",
      "596653  曇  16.0  316.0    14  1.13.6   2.2       1  \n",
      "596654  曇   4.0    8.3     4  1.12.2   0.8       1  \n",
      "596655  曇   6.0   10.1     9  1.12.6   1.2       1  \n",
      "596656  曇  14.0  116.2    11  1.12.9   1.5       1  \n",
      "\n",
      "[596657 rows x 21 columns]\n"
     ]
    }
   ],
   "source": [
    "with codecs.open(\"./origin_data.csv\", \"r\", \"Shift-JIS\", \"ignore\") as file:\n",
    "    df = pd.read_csv(file, delimiter=\",\", names=[\"年\",\"月\",\"日\",\"馬名\",\"馬番\",\"枠番\",\"年齢\",\"性別\",\"馬体重\",\"斤量\",\"場所\",\"頭数\",\"距離\",\"馬場状態\",\"天候\",\"人気\",\"単勝オッズ\",\"確定着順\",\"タイムS\",\"着差タイム\",\"トラックコード\"])\n",
    "df = df.dropna()\n",
    "df = df.reset_index(drop=True)\n",
    "print(df)    "
   ]
  },
  {
   "cell_type": "markdown",
   "metadata": {},
   "source": [
    "タイムSのデータを\"00.00.0\"という表記から秒数へ変換"
   ]
  },
  {
   "cell_type": "code",
   "execution_count": 217,
   "metadata": {},
   "outputs": [
    {
     "name": "stdout",
     "output_type": "stream",
     "text": [
      "0         60.0\n",
      "1         60.4\n",
      "2         60.9\n",
      "3         62.1\n",
      "4         60.4\n",
      "          ... \n",
      "596652    72.5\n",
      "596653    73.6\n",
      "596654    72.2\n",
      "596655    72.6\n",
      "596656    72.9\n",
      "Name: タイムS, Length: 596657, dtype: float64\n"
     ]
    }
   ],
   "source": [
    "base_time = pd.to_datetime('00.00.0', format='%M.%S.%f')\n",
    "df['タイムS'] = pd.to_datetime(df['タイムS'], format='%M.%S.%f') - base_time\n",
    "df['タイムS'] = df['タイムS'].dt.total_seconds()\n",
    "print(df['タイムS'])"
   ]
  },
  {
   "cell_type": "markdown",
   "metadata": {
    "scrolled": true
   },
   "source": [
    "各種文字列をネットワークに入力するために数字に変換"
   ]
  },
  {
   "cell_type": "code",
   "execution_count": 218,
   "metadata": {
    "scrolled": true
   },
   "outputs": [
    {
     "name": "stdout",
     "output_type": "stream",
     "text": [
      "         年  月   日         馬名  馬番  枠番  年齢  性別    馬体重    斤量  ...  頭数    距離  \\\n",
      "0       20  1  18  レインボーメイプル   1   1   3   2  472.0  53.0  ...  13  1000   \n",
      "1       20  1  18   キタノシャンティ   2   2   3   1  486.0  53.0  ...  13  1000   \n",
      "2       20  1  18   テイエムピカピカ   3   3   3   2  460.0  54.0  ...  13  1000   \n",
      "3       20  1  18     ヨドノエール   4   4   3   1  438.0  53.0  ...  13  1000   \n",
      "4       20  1  18   トーセンシーバス   5   4   3   1  436.0  53.0  ...  13  1000   \n",
      "...     .. ..  ..        ...  ..  ..  ..  ..    ...   ...  ...  ..   ...   \n",
      "596652  20  1  19       クラシコ  12   6   8   1  498.0  57.0  ...  16  1200   \n",
      "596653  20  1  19   ウイナーズロード  13   7   6   2  442.0  55.0  ...  16  1200   \n",
      "596654  20  1  19  エムオータイショウ  14   7   4   1  506.0  56.0  ...  16  1200   \n",
      "596655  20  1  19  レジーナファースト  15   8   5   2  460.0  55.0  ...  16  1200   \n",
      "596656  20  1  19    バルコラベーロ  16   8   6   1  500.0  57.0  ...  16  1200   \n",
      "\n",
      "        馬場状態  天候    人気  単勝オッズ  確定着順  タイムS  着差タイム トラックコード  \n",
      "0          2   2   7.0   17.6     5  60.0    0.4       1  \n",
      "1          2   2  12.0  190.6     9  60.4    0.8       1  \n",
      "2          2   2  11.0   68.2    10  60.9    1.3       1  \n",
      "3          2   2   3.0    5.6    11  62.1    2.5       1  \n",
      "4          2   2   8.0   18.0     8  60.4    0.8       1  \n",
      "...      ...  ..   ...    ...   ...   ...    ...     ...  \n",
      "596652     1   2   3.0    6.8     7  72.5    1.1       1  \n",
      "596653     1   2  16.0  316.0    14  73.6    2.2       1  \n",
      "596654     1   2   4.0    8.3     4  72.2    0.8       1  \n",
      "596655     1   2   6.0   10.1     9  72.6    1.2       1  \n",
      "596656     1   2  14.0  116.2    11  72.9    1.5       1  \n",
      "\n",
      "[596657 rows x 21 columns]\n"
     ]
    }
   ],
   "source": [
    "df = df.replace({\"性別\" : {\"牡\":1, \"牝\":2, \"セ\":3}, \"場所\" : {\"札幌\":1, \"函館\":2, \"福島\":3, \"新潟\":4, \"東京\":5, \"中山\":6, \"中京\":7, \"京都\":8, \"阪神\":9, \"小倉\":10}, \"馬場状態\" : {\"良\":1, \"稍\":2, \"重\":3, \"不\":4}, \"天候\" : {\"晴\":1, \"曇\":2, \"雨\":3, \"小雨\":4, \"小雪\":5, \"雪\":6}, \"着差タイム\" : {\"----\":100.0}})\n",
    "print(df)"
   ]
  },
  {
   "cell_type": "markdown",
   "metadata": {},
   "source": [
    "馬名でソートする"
   ]
  },
  {
   "cell_type": "code",
   "execution_count": 219,
   "metadata": {
    "scrolled": true
   },
   "outputs": [
    {
     "name": "stdout",
     "output_type": "stream",
     "text": [
      "         年   月   日         馬名  馬番  枠番  年齢  性別    馬体重    斤量  ...  頭数    距離  \\\n",
      "0       16   6   4  アイアイエンデバー   3   3   7   1  470.0  57.0  ...   9  2000   \n",
      "1       16   5  22  アイアイエンデバー   8   7   7   1  472.0  57.0  ...  10  1800   \n",
      "2       16   4  30  アイアイエンデバー   2   2   7   1  470.0  57.0  ...  12  1600   \n",
      "3       16   4  10  アイアイエンデバー   4   3   7   1  472.0  51.0  ...  15  1600   \n",
      "4       16   3  21  アイアイエンデバー  12   6   7   1  476.0  52.0  ...  16  1600   \n",
      "...     ..  ..  ..        ...  ..  ..  ..  ..    ...   ...  ...  ..   ...   \n",
      "596652  13   2  16  ヴードゥーフェスト   9   5   3   1  530.0  56.0  ...  16  1400   \n",
      "596653  13   2   3  ヴードゥーフェスト  13   8   3   1  526.0  56.0  ...  14  1400   \n",
      "596654  12  11  25  ヴードゥーフェスト   9   6   2   1  524.0  55.0  ...  13  1800   \n",
      "596655  12  10  27  ヴードゥーフェスト   5   5   2   1  528.0  55.0  ...  12  1800   \n",
      "596656  12  10  14  ヴードゥーフェスト   9   6   2   1  530.0  55.0  ...  13  2000   \n",
      "\n",
      "        馬場状態  天候    人気  単勝オッズ  確定着順   タイムS  着差タイム トラックコード  \n",
      "0          1   2   9.0  222.2     9  123.0    2.1       0  \n",
      "1          1   1  10.0  261.0     9  109.3    1.3       0  \n",
      "2          1   1  12.0  474.7    12   94.7    1.3       0  \n",
      "3          1   2  14.0  157.7    13   95.6    0.9       8  \n",
      "4          1   2  16.0  560.4    15   95.7    0.7       8  \n",
      "...      ...  ..   ...    ...   ...    ...    ...     ...  \n",
      "596652     3   1   3.0    9.1     6   86.5    0.5       1  \n",
      "596653     1   1   4.0   12.0     3   87.0    1.0       1  \n",
      "596654     2   1   6.0   27.0     7  115.8    3.2       1  \n",
      "596655     1   1   2.0    4.8     7  117.1    2.0       1  \n",
      "596656     1   2   7.0   26.8     8  124.8    1.1       0  \n",
      "\n",
      "[596657 rows x 21 columns]\n"
     ]
    }
   ],
   "source": [
    "df_name_sort = df.sort_values(['馬名',\"年\",\"月\",\"日\"], ascending=[True, False, False, False])\n",
    "df_name_sort = df_name_sort.reset_index(drop=True)\n",
    "df = df_name_sort\n",
    "print(df)"
   ]
  },
  {
   "cell_type": "markdown",
   "metadata": {},
   "source": [
    "馬毎に過去5レースを抽出する"
   ]
  },
  {
   "cell_type": "code",
   "execution_count": null,
   "metadata": {},
   "outputs": [
    {
     "name": "stdout",
     "output_type": "stream",
     "text": [
      "0\n"
     ]
    }
   ],
   "source": [
    "df_new = df.assign(年1=np.nan,月1=np.nan,日1=np.nan,馬名1=np.nan,馬番1=np.nan,枠番1=np.nan,年齢1=np.nan,性別1=np.nan,馬体重1=np.nan,斤量1=np.nan,場所1=np.nan,頭数1=np.nan,距離1=np.nan,馬場状態1=np.nan,天候1=np.nan,人気1=np.nan,単勝オッズ1=np.nan,確定着順1=np.nan,タイムS1=np.nan,着差タイム1=np.nan,トラックコード1=np.nan,\\\n",
    "                  年2=np.nan,月2=np.nan,日2=np.nan,馬名2=np.nan,馬番2=np.nan,枠番2=np.nan,年齢2=np.nan,性別2=np.nan,馬体重2=np.nan,斤量2=np.nan,場所2=np.nan,頭数2=np.nan,距離2=np.nan,馬場状態2=np.nan,天候2=np.nan,人気2=np.nan,単勝オッズ2=np.nan,確定着順2=np.nan,タイムS2=np.nan,着差タイム2=np.nan,トラックコード2=np.nan,\\\n",
    "                  年3=np.nan,月3=np.nan,日3=np.nan,馬名3=np.nan,馬番3=np.nan,枠番3=np.nan,年齢3=np.nan,性別3=np.nan,馬体重3=np.nan,斤量3=np.nan,場所3=np.nan,頭数3=np.nan,距離3=np.nan,馬場状態3=np.nan,天候3=np.nan,人気3=np.nan,単勝オッズ3=np.nan,確定着順3=np.nan,タイムS3=np.nan,着差タイム3=np.nan,トラックコード3=np.nan,\\\n",
    "                  年4=np.nan,月4=np.nan,日4=np.nan,馬名4=np.nan,馬番4=np.nan,枠番4=np.nan,年齢4=np.nan,性別4=np.nan,馬体重4=np.nan,斤量4=np.nan,場所4=np.nan,頭数4=np.nan,距離4=np.nan,馬場状態4=np.nan,天候4=np.nan,人気4=np.nan,単勝オッズ4=np.nan,確定着順4=np.nan,タイムS4=np.nan,着差タイム4=np.nan,トラックコード4=np.nan,\\\n",
    "                  年5=np.nan,月5=np.nan,日5=np.nan,馬名5=np.nan,馬番5=np.nan,枠番5=np.nan,年齢5=np.nan,性別5=np.nan,馬体重5=np.nan,斤量5=np.nan,場所5=np.nan,頭数5=np.nan,距離5=np.nan,馬場状態5=np.nan,天候5=np.nan,人気5=np.nan,単勝オッズ5=np.nan,確定着順5=np.nan,タイムS5=np.nan,着差タイム5=np.nan,トラックコード5=np.nan)\n",
    "datasize = df_new.size\n",
    "for i in range(datasize-5):\n",
    "    print(i)\n",
    "    if df['馬名'].iloc[i] == df['馬名'].iloc[i+5]:\n",
    "        for j in range(5):\n",
    "            df_new['年' + str(j+1)].iloc[i] = df['年'].iloc[i+j+1]\n",
    "            df_new['月' + str(j+1)].iloc[i] = df['月'].iloc[i+j+1]\n",
    "            df_new['日' + str(j+1)].iloc[i] = df['日'].iloc[i+j+1]\n",
    "            df_new['馬名' + str(j+1)].iloc[i] = df['馬名'].iloc[i+j+1]\n",
    "            df_new['馬番' + str(j+1)].iloc[i] = df['馬番'].iloc[i+j+1]\n",
    "            df_new['枠番' + str(j+1)].iloc[i] = df['枠番'].iloc[i+j+1]\n",
    "            df_new['年齢' + str(j+1)].iloc[i] = df['年齢'].iloc[i+j+1]\n",
    "            df_new['性別' + str(j+1)].iloc[i] = df['性別'].iloc[i+j+1]\n",
    "            df_new['馬体重' + str(j+1)].iloc[i] = df['馬体重'].iloc[i+j+1]\n",
    "            df_new['斤量' + str(j+1)].iloc[i] = df['斤量'].iloc[i+j+1]\n",
    "            df_new['場所' + str(j+1)].iloc[i] = df['場所'].iloc[i+j+1]\n",
    "            df_new['頭数' + str(j+1)].iloc[i] = df['頭数'].iloc[i+j+1]\n",
    "            df_new['距離' + str(j+1)].iloc[i] = df['距離'].iloc[i+j+1]\n",
    "            df_new['馬場状態' + str(j+1)].iloc[i] = df['馬場状態'].iloc[i+j+1]\n",
    "            df_new['天候' + str(j+1)].iloc[i] = df['天候'].iloc[i+j+1]\n",
    "            df_new['人気' + str(j+1)].iloc[i] = df['人気'].iloc[i+j+1]\n",
    "            df_new['単勝オッズ' + str(j+1)].iloc[i] = df['単勝オッズ'].iloc[i+j+1]\n",
    "            df_new['確定着順' + str(j+1)].iloc[i] = df['確定着順'].iloc[i+j+1]\n",
    "            df_new['タイムS' + str(j+1)].iloc[i] = df['タイムS'].iloc[i+j+1]\n",
    "            df_new['着差タイム' + str(j+1)].iloc[i] = df['着差タイム'].iloc[i+j+1]\n",
    "            df_new['トラックコード' + str(j+1)].iloc[i] = df['トラックコード'].iloc[i+j+1]\n",
    "print(df_new)"
   ]
  },
  {
   "cell_type": "markdown",
   "metadata": {},
   "source": [
    "馬名は学習には使わないので削除\n",
    "型をfloatに変換"
   ]
  },
  {
   "cell_type": "code",
   "execution_count": null,
   "metadata": {
    "scrolled": true
   },
   "outputs": [],
   "source": [
    "df = df_new\n",
    "df = df.dropna()\n",
    "df = df.reset_index(drop=True)\n",
    "df = df.drop(columns='馬名')\n",
    "df = df.drop(columns='馬名1')\n",
    "df = df.drop(columns='馬名2')\n",
    "df = df.drop(columns='馬名3')\n",
    "df = df.drop(columns='馬名4')\n",
    "df = df.drop(columns='馬名5')\n",
    "df = df.astype(float)\n",
    "#欠損値は0.0で埋める(着差タイムのどこかにNANがあるかも、、、nanは削除しよう)\n",
    "#df = df.fillna(0.0)"
   ]
  },
  {
   "cell_type": "markdown",
   "metadata": {},
   "source": [
    "保存"
   ]
  },
  {
   "cell_type": "code",
   "execution_count": null,
   "metadata": {},
   "outputs": [],
   "source": [
    "df.to_csv(\"./train_data.csv\")"
   ]
  },
  {
   "cell_type": "markdown",
   "metadata": {},
   "source": [
    "学習データとテストデータに分割"
   ]
  },
  {
   "cell_type": "code",
   "execution_count": null,
   "metadata": {
    "scrolled": true
   },
   "outputs": [],
   "source": [
    "df_20 = df.query(\"年 > 19\")\n",
    "print(df.query(\"年 > 19\"))"
   ]
  }
 ],
 "metadata": {
  "kernelspec": {
   "display_name": "Python 3",
   "language": "python",
   "name": "python3"
  },
  "language_info": {
   "codemirror_mode": {
    "name": "ipython",
    "version": 3
   },
   "file_extension": ".py",
   "mimetype": "text/x-python",
   "name": "python",
   "nbconvert_exporter": "python",
   "pygments_lexer": "ipython3",
   "version": "3.7.4"
  }
 },
 "nbformat": 4,
 "nbformat_minor": 2
}
