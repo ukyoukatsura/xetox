{
 "cells": [
  {
   "cell_type": "code",
   "execution_count": 203,
   "metadata": {},
   "outputs": [],
   "source": [
    "import pandas as pd\n",
    "import codecs\n",
    "import numpy as np"
   ]
  },
  {
   "cell_type": "markdown",
   "metadata": {},
   "source": [
    "元データの読み込み&欠損値(NAN)の削除"
   ]
  },
  {
   "cell_type": "code",
   "execution_count": 204,
   "metadata": {
    "scrolled": true
   },
   "outputs": [
    {
     "name": "stdout",
     "output_type": "stream",
     "text": [
      "         年  月   日         馬名  馬番  枠番  年齢 性別    馬体重    斤量  ...  頭数    距離  馬場状態  \\\n",
      "0       20  1  18  レインボーメイプル   1   1   3  牝  472.0  53.0  ...  13  1000     稍   \n",
      "1       20  1  18   キタノシャンティ   2   2   3  牡  486.0  53.0  ...  13  1000     稍   \n",
      "2       20  1  18   テイエムピカピカ   3   3   3  牝  460.0  54.0  ...  13  1000     稍   \n",
      "3       20  1  18     ヨドノエール   4   4   3  牡  438.0  53.0  ...  13  1000     稍   \n",
      "4       20  1  18   トーセンシーバス   5   4   3  牡  436.0  53.0  ...  13  1000     稍   \n",
      "...     .. ..  ..        ...  ..  ..  .. ..    ...   ...  ...  ..   ...   ...   \n",
      "596652  20  1  19       クラシコ  12   6   8  牡  498.0  57.0  ...  16  1200     良   \n",
      "596653  20  1  19   ウイナーズロード  13   7   6  牝  442.0  55.0  ...  16  1200     良   \n",
      "596654  20  1  19  エムオータイショウ  14   7   4  牡  506.0  56.0  ...  16  1200     良   \n",
      "596655  20  1  19  レジーナファースト  15   8   5  牝  460.0  55.0  ...  16  1200     良   \n",
      "596656  20  1  19    バルコラベーロ  16   8   6  牡  500.0  57.0  ...  16  1200     良   \n",
      "\n",
      "       天候    人気  単勝オッズ  確定着順    タイムS 着差タイム トラックコード  \n",
      "0       曇   7.0   17.6     5  1.00.0   0.4       1  \n",
      "1       曇  12.0  190.6     9  1.00.4   0.8       1  \n",
      "2       曇  11.0   68.2    10  1.00.9   1.3       1  \n",
      "3       曇   3.0    5.6    11  1.02.1   2.5       1  \n",
      "4       曇   8.0   18.0     8  1.00.4   0.8       1  \n",
      "...    ..   ...    ...   ...     ...   ...     ...  \n",
      "596652  曇   3.0    6.8     7  1.12.5   1.1       1  \n",
      "596653  曇  16.0  316.0    14  1.13.6   2.2       1  \n",
      "596654  曇   4.0    8.3     4  1.12.2   0.8       1  \n",
      "596655  曇   6.0   10.1     9  1.12.6   1.2       1  \n",
      "596656  曇  14.0  116.2    11  1.12.9   1.5       1  \n",
      "\n",
      "[596657 rows x 21 columns]\n"
     ]
    }
   ],
   "source": [
    "with codecs.open(\"./origin_data.csv\", \"r\", \"Shift-JIS\", \"ignore\") as file:\n",
    "    df = pd.read_csv(file, delimiter=\",\", names=[\"年\",\"月\",\"日\",\"馬名\",\"馬番\",\"枠番\",\"年齢\",\"性別\",\"馬体重\",\"斤量\",\"場所\",\"頭数\",\"距離\",\"馬場状態\",\"天候\",\"人気\",\"単勝オッズ\",\"確定着順\",\"タイムS\",\"着差タイム\",\"トラックコード\"])\n",
    "df = df.dropna()\n",
    "df = df.reset_index(drop=True)\n",
    "print(df)    "
   ]
  },
  {
   "cell_type": "markdown",
   "metadata": {},
   "source": [
    "タイムSのデータを\"00.00.0\"という表記から秒数へ変換"
   ]
  },
  {
   "cell_type": "code",
   "execution_count": 205,
   "metadata": {},
   "outputs": [
    {
     "name": "stdout",
     "output_type": "stream",
     "text": [
      "0         60.0\n",
      "1         60.4\n",
      "2         60.9\n",
      "3         62.1\n",
      "4         60.4\n",
      "          ... \n",
      "596652    72.5\n",
      "596653    73.6\n",
      "596654    72.2\n",
      "596655    72.6\n",
      "596656    72.9\n",
      "Name: タイムS, Length: 596657, dtype: float64\n"
     ]
    }
   ],
   "source": [
    "base_time = pd.to_datetime('00.00.0', format='%M.%S.%f')\n",
    "df['タイムS'] = pd.to_datetime(df['タイムS'], format='%M.%S.%f') - base_time\n",
    "df['タイムS'] = df['タイムS'].dt.total_seconds()\n",
    "print(df['タイムS'])"
   ]
  },
  {
   "cell_type": "markdown",
   "metadata": {
    "scrolled": true
   },
   "source": [
    "各種文字列をネットワークに入力するために数字に変換"
   ]
  },
  {
   "cell_type": "code",
   "execution_count": 206,
   "metadata": {
    "scrolled": true
   },
   "outputs": [
    {
     "name": "stdout",
     "output_type": "stream",
     "text": [
      "         年  月   日         馬名  馬番  枠番  年齢  性別    馬体重    斤量  ...  頭数    距離  \\\n",
      "0       20  1  18  レインボーメイプル   1   1   3   2  472.0  53.0  ...  13  1000   \n",
      "1       20  1  18   キタノシャンティ   2   2   3   1  486.0  53.0  ...  13  1000   \n",
      "2       20  1  18   テイエムピカピカ   3   3   3   2  460.0  54.0  ...  13  1000   \n",
      "3       20  1  18     ヨドノエール   4   4   3   1  438.0  53.0  ...  13  1000   \n",
      "4       20  1  18   トーセンシーバス   5   4   3   1  436.0  53.0  ...  13  1000   \n",
      "...     .. ..  ..        ...  ..  ..  ..  ..    ...   ...  ...  ..   ...   \n",
      "596652  20  1  19       クラシコ  12   6   8   1  498.0  57.0  ...  16  1200   \n",
      "596653  20  1  19   ウイナーズロード  13   7   6   2  442.0  55.0  ...  16  1200   \n",
      "596654  20  1  19  エムオータイショウ  14   7   4   1  506.0  56.0  ...  16  1200   \n",
      "596655  20  1  19  レジーナファースト  15   8   5   2  460.0  55.0  ...  16  1200   \n",
      "596656  20  1  19    バルコラベーロ  16   8   6   1  500.0  57.0  ...  16  1200   \n",
      "\n",
      "        馬場状態  天候    人気  単勝オッズ  確定着順  タイムS  着差タイム トラックコード  \n",
      "0          2   2   7.0   17.6     5  60.0    0.4       1  \n",
      "1          2   2  12.0  190.6     9  60.4    0.8       1  \n",
      "2          2   2  11.0   68.2    10  60.9    1.3       1  \n",
      "3          2   2   3.0    5.6    11  62.1    2.5       1  \n",
      "4          2   2   8.0   18.0     8  60.4    0.8       1  \n",
      "...      ...  ..   ...    ...   ...   ...    ...     ...  \n",
      "596652     1   2   3.0    6.8     7  72.5    1.1       1  \n",
      "596653     1   2  16.0  316.0    14  73.6    2.2       1  \n",
      "596654     1   2   4.0    8.3     4  72.2    0.8       1  \n",
      "596655     1   2   6.0   10.1     9  72.6    1.2       1  \n",
      "596656     1   2  14.0  116.2    11  72.9    1.5       1  \n",
      "\n",
      "[596657 rows x 21 columns]\n"
     ]
    }
   ],
   "source": [
    "df = df.replace({\"性別\" : {\"牡\":1, \"牝\":2, \"セ\":3}, \"場所\" : {\"札幌\":1, \"函館\":2, \"福島\":3, \"新潟\":4, \"東京\":5, \"中山\":6, \"中京\":7, \"京都\":8, \"阪神\":9, \"小倉\":10}, \"馬場状態\" : {\"良\":1, \"稍\":2, \"重\":3, \"不\":4}, \"天候\" : {\"晴\":1, \"曇\":2, \"雨\":3, \"小雨\":4, \"小雪\":5, \"雪\":6}, \"着差タイム\" : {\"----\":100.0}})\n",
    "print(df)"
   ]
  },
  {
   "cell_type": "markdown",
   "metadata": {},
   "source": [
    "馬名でソートする"
   ]
  },
  {
   "cell_type": "code",
   "execution_count": 207,
   "metadata": {
    "scrolled": true
   },
   "outputs": [
    {
     "name": "stdout",
     "output_type": "stream",
     "text": [
      "         年   月   日         馬名  馬番  枠番  年齢  性別    馬体重    斤量  ...  頭数    距離  \\\n",
      "0       16   6   4  アイアイエンデバー   3   3   7   1  470.0  57.0  ...   9  2000   \n",
      "1       16   5  22  アイアイエンデバー   8   7   7   1  472.0  57.0  ...  10  1800   \n",
      "2       16   4  30  アイアイエンデバー   2   2   7   1  470.0  57.0  ...  12  1600   \n",
      "3       16   4  10  アイアイエンデバー   4   3   7   1  472.0  51.0  ...  15  1600   \n",
      "4       16   3  21  アイアイエンデバー  12   6   7   1  476.0  52.0  ...  16  1600   \n",
      "...     ..  ..  ..        ...  ..  ..  ..  ..    ...   ...  ...  ..   ...   \n",
      "596652  13   2  16  ヴードゥーフェスト   9   5   3   1  530.0  56.0  ...  16  1400   \n",
      "596653  13   2   3  ヴードゥーフェスト  13   8   3   1  526.0  56.0  ...  14  1400   \n",
      "596654  12  11  25  ヴードゥーフェスト   9   6   2   1  524.0  55.0  ...  13  1800   \n",
      "596655  12  10  27  ヴードゥーフェスト   5   5   2   1  528.0  55.0  ...  12  1800   \n",
      "596656  12  10  14  ヴードゥーフェスト   9   6   2   1  530.0  55.0  ...  13  2000   \n",
      "\n",
      "        馬場状態  天候    人気  単勝オッズ  確定着順   タイムS  着差タイム トラックコード  \n",
      "0          1   2   9.0  222.2     9  123.0    2.1       0  \n",
      "1          1   1  10.0  261.0     9  109.3    1.3       0  \n",
      "2          1   1  12.0  474.7    12   94.7    1.3       0  \n",
      "3          1   2  14.0  157.7    13   95.6    0.9       8  \n",
      "4          1   2  16.0  560.4    15   95.7    0.7       8  \n",
      "...      ...  ..   ...    ...   ...    ...    ...     ...  \n",
      "596652     3   1   3.0    9.1     6   86.5    0.5       1  \n",
      "596653     1   1   4.0   12.0     3   87.0    1.0       1  \n",
      "596654     2   1   6.0   27.0     7  115.8    3.2       1  \n",
      "596655     1   1   2.0    4.8     7  117.1    2.0       1  \n",
      "596656     1   2   7.0   26.8     8  124.8    1.1       0  \n",
      "\n",
      "[596657 rows x 21 columns]\n"
     ]
    }
   ],
   "source": [
    "df_name_sort = df.sort_values(['馬名',\"年\",\"月\",\"日\"], ascending=[True, False, False, False])\n",
    "df_name_sort = df_name_sort.reset_index(drop=True)\n",
    "df = df_name_sort\n",
    "print(df)"
   ]
  },
  {
   "cell_type": "markdown",
   "metadata": {},
   "source": [
    "馬毎に過去5レースを抽出する"
   ]
  },
  {
   "cell_type": "code",
   "execution_count": 208,
   "metadata": {},
   "outputs": [
    {
     "name": "stdout",
     "output_type": "stream",
     "text": [
      "0\n",
      "1\n",
      "2\n",
      "3\n",
      "4\n",
      "5\n",
      "6\n",
      "7\n",
      "8\n",
      "9\n",
      "10\n",
      "11\n",
      "12\n",
      "13\n",
      "14\n",
      "15\n",
      "16\n",
      "17\n",
      "18\n",
      "19\n",
      "20\n",
      "21\n",
      "22\n",
      "23\n",
      "24\n",
      "25\n",
      "26\n",
      "27\n",
      "28\n",
      "29\n",
      "30\n",
      "31\n",
      "32\n",
      "33\n",
      "34\n",
      "35\n",
      "36\n",
      "37\n",
      "38\n",
      "39\n",
      "40\n",
      "41\n",
      "42\n",
      "43\n",
      "44\n",
      "45\n",
      "46\n",
      "47\n",
      "48\n",
      "49\n",
      "50\n",
      "51\n",
      "52\n",
      "53\n",
      "54\n",
      "55\n",
      "56\n",
      "57\n",
      "58\n",
      "59\n",
      "60\n",
      "61\n",
      "62\n",
      "63\n",
      "64\n",
      "65\n",
      "66\n",
      "67\n",
      "68\n",
      "69\n",
      "70\n",
      "71\n",
      "72\n",
      "73\n",
      "74\n",
      "75\n",
      "76\n",
      "77\n",
      "78\n",
      "79\n",
      "80\n",
      "81\n",
      "82\n",
      "83\n",
      "84\n",
      "85\n",
      "86\n",
      "87\n",
      "88\n",
      "89\n",
      "90\n",
      "91\n",
      "92\n",
      "93\n",
      "94\n",
      "95\n",
      "96\n",
      "97\n",
      "98\n",
      "99\n",
      "100\n",
      "101\n",
      "102\n",
      "103\n",
      "104\n",
      "105\n",
      "106\n",
      "107\n",
      "108\n",
      "109\n",
      "110\n",
      "111\n",
      "112\n",
      "113\n",
      "114\n",
      "115\n",
      "116\n",
      "117\n",
      "118\n",
      "119\n",
      "120\n",
      "121\n",
      "122\n",
      "123\n",
      "124\n",
      "125\n",
      "126\n",
      "127\n",
      "128\n",
      "129\n",
      "130\n",
      "131\n",
      "132\n",
      "133\n",
      "134\n",
      "135\n",
      "136\n",
      "137\n",
      "138\n",
      "139\n",
      "140\n",
      "141\n",
      "142\n",
      "143\n",
      "144\n",
      "145\n",
      "146\n",
      "147\n",
      "148\n",
      "149\n",
      "150\n",
      "151\n",
      "152\n",
      "153\n",
      "154\n",
      "155\n",
      "156\n",
      "157\n",
      "158\n",
      "159\n",
      "160\n",
      "161\n",
      "162\n",
      "163\n",
      "164\n",
      "165\n",
      "166\n",
      "167\n",
      "168\n",
      "169\n",
      "170\n",
      "171\n",
      "172\n",
      "173\n",
      "174\n",
      "175\n",
      "176\n",
      "177\n"
     ]
    },
    {
     "ename": "KeyboardInterrupt",
     "evalue": "",
     "output_type": "error",
     "traceback": [
      "\u001b[0;31m---------------------------------------------------------------------------\u001b[0m",
      "\u001b[0;31mKeyboardInterrupt\u001b[0m                         Traceback (most recent call last)",
      "\u001b[0;32m<ipython-input-208-6f3e00b8c20e>\u001b[0m in \u001b[0;36m<module>\u001b[0;34m\u001b[0m\n\u001b[1;32m     23\u001b[0m             \u001b[0mdf_new\u001b[0m\u001b[0;34m[\u001b[0m\u001b[0;34m'距離'\u001b[0m \u001b[0;34m+\u001b[0m \u001b[0mstr\u001b[0m\u001b[0;34m(\u001b[0m\u001b[0mj\u001b[0m\u001b[0;34m+\u001b[0m\u001b[0;36m1\u001b[0m\u001b[0;34m)\u001b[0m\u001b[0;34m]\u001b[0m\u001b[0;34m.\u001b[0m\u001b[0miloc\u001b[0m\u001b[0;34m[\u001b[0m\u001b[0mi\u001b[0m\u001b[0;34m]\u001b[0m \u001b[0;34m=\u001b[0m \u001b[0mdf\u001b[0m\u001b[0;34m[\u001b[0m\u001b[0;34m'距離'\u001b[0m\u001b[0;34m]\u001b[0m\u001b[0;34m.\u001b[0m\u001b[0miloc\u001b[0m\u001b[0;34m[\u001b[0m\u001b[0mi\u001b[0m\u001b[0;34m+\u001b[0m\u001b[0mj\u001b[0m\u001b[0;34m+\u001b[0m\u001b[0;36m1\u001b[0m\u001b[0;34m]\u001b[0m\u001b[0;34m\u001b[0m\u001b[0;34m\u001b[0m\u001b[0m\n\u001b[1;32m     24\u001b[0m             \u001b[0mdf_new\u001b[0m\u001b[0;34m[\u001b[0m\u001b[0;34m'馬場状態'\u001b[0m \u001b[0;34m+\u001b[0m \u001b[0mstr\u001b[0m\u001b[0;34m(\u001b[0m\u001b[0mj\u001b[0m\u001b[0;34m+\u001b[0m\u001b[0;36m1\u001b[0m\u001b[0;34m)\u001b[0m\u001b[0;34m]\u001b[0m\u001b[0;34m.\u001b[0m\u001b[0miloc\u001b[0m\u001b[0;34m[\u001b[0m\u001b[0mi\u001b[0m\u001b[0;34m]\u001b[0m \u001b[0;34m=\u001b[0m \u001b[0mdf\u001b[0m\u001b[0;34m[\u001b[0m\u001b[0;34m'馬場状態'\u001b[0m\u001b[0;34m]\u001b[0m\u001b[0;34m.\u001b[0m\u001b[0miloc\u001b[0m\u001b[0;34m[\u001b[0m\u001b[0mi\u001b[0m\u001b[0;34m+\u001b[0m\u001b[0mj\u001b[0m\u001b[0;34m+\u001b[0m\u001b[0;36m1\u001b[0m\u001b[0;34m]\u001b[0m\u001b[0;34m\u001b[0m\u001b[0;34m\u001b[0m\u001b[0m\n\u001b[0;32m---> 25\u001b[0;31m             \u001b[0mdf_new\u001b[0m\u001b[0;34m[\u001b[0m\u001b[0;34m'天候'\u001b[0m \u001b[0;34m+\u001b[0m \u001b[0mstr\u001b[0m\u001b[0;34m(\u001b[0m\u001b[0mj\u001b[0m\u001b[0;34m+\u001b[0m\u001b[0;36m1\u001b[0m\u001b[0;34m)\u001b[0m\u001b[0;34m]\u001b[0m\u001b[0;34m.\u001b[0m\u001b[0miloc\u001b[0m\u001b[0;34m[\u001b[0m\u001b[0mi\u001b[0m\u001b[0;34m]\u001b[0m \u001b[0;34m=\u001b[0m \u001b[0mdf\u001b[0m\u001b[0;34m[\u001b[0m\u001b[0;34m'天候'\u001b[0m\u001b[0;34m]\u001b[0m\u001b[0;34m.\u001b[0m\u001b[0miloc\u001b[0m\u001b[0;34m[\u001b[0m\u001b[0mi\u001b[0m\u001b[0;34m+\u001b[0m\u001b[0mj\u001b[0m\u001b[0;34m+\u001b[0m\u001b[0;36m1\u001b[0m\u001b[0;34m]\u001b[0m\u001b[0;34m\u001b[0m\u001b[0;34m\u001b[0m\u001b[0m\n\u001b[0m\u001b[1;32m     26\u001b[0m             \u001b[0mdf_new\u001b[0m\u001b[0;34m[\u001b[0m\u001b[0;34m'人気'\u001b[0m \u001b[0;34m+\u001b[0m \u001b[0mstr\u001b[0m\u001b[0;34m(\u001b[0m\u001b[0mj\u001b[0m\u001b[0;34m+\u001b[0m\u001b[0;36m1\u001b[0m\u001b[0;34m)\u001b[0m\u001b[0;34m]\u001b[0m\u001b[0;34m.\u001b[0m\u001b[0miloc\u001b[0m\u001b[0;34m[\u001b[0m\u001b[0mi\u001b[0m\u001b[0;34m]\u001b[0m \u001b[0;34m=\u001b[0m \u001b[0mdf\u001b[0m\u001b[0;34m[\u001b[0m\u001b[0;34m'人気'\u001b[0m\u001b[0;34m]\u001b[0m\u001b[0;34m.\u001b[0m\u001b[0miloc\u001b[0m\u001b[0;34m[\u001b[0m\u001b[0mi\u001b[0m\u001b[0;34m+\u001b[0m\u001b[0mj\u001b[0m\u001b[0;34m+\u001b[0m\u001b[0;36m1\u001b[0m\u001b[0;34m]\u001b[0m\u001b[0;34m\u001b[0m\u001b[0;34m\u001b[0m\u001b[0m\n\u001b[1;32m     27\u001b[0m             \u001b[0mdf_new\u001b[0m\u001b[0;34m[\u001b[0m\u001b[0;34m'単勝オッズ'\u001b[0m \u001b[0;34m+\u001b[0m \u001b[0mstr\u001b[0m\u001b[0;34m(\u001b[0m\u001b[0mj\u001b[0m\u001b[0;34m+\u001b[0m\u001b[0;36m1\u001b[0m\u001b[0;34m)\u001b[0m\u001b[0;34m]\u001b[0m\u001b[0;34m.\u001b[0m\u001b[0miloc\u001b[0m\u001b[0;34m[\u001b[0m\u001b[0mi\u001b[0m\u001b[0;34m]\u001b[0m \u001b[0;34m=\u001b[0m \u001b[0mdf\u001b[0m\u001b[0;34m[\u001b[0m\u001b[0;34m'単勝オッズ'\u001b[0m\u001b[0;34m]\u001b[0m\u001b[0;34m.\u001b[0m\u001b[0miloc\u001b[0m\u001b[0;34m[\u001b[0m\u001b[0mi\u001b[0m\u001b[0;34m+\u001b[0m\u001b[0mj\u001b[0m\u001b[0;34m+\u001b[0m\u001b[0;36m1\u001b[0m\u001b[0;34m]\u001b[0m\u001b[0;34m\u001b[0m\u001b[0;34m\u001b[0m\u001b[0m\n",
      "\u001b[0;32m~/anaconda3/lib/python3.7/site-packages/pandas/core/indexing.py\u001b[0m in \u001b[0;36m__setitem__\u001b[0;34m(self, key, value)\u001b[0m\n\u001b[1;32m    203\u001b[0m             \u001b[0mkey\u001b[0m \u001b[0;34m=\u001b[0m \u001b[0mcom\u001b[0m\u001b[0;34m.\u001b[0m\u001b[0mapply_if_callable\u001b[0m\u001b[0;34m(\u001b[0m\u001b[0mkey\u001b[0m\u001b[0;34m,\u001b[0m \u001b[0mself\u001b[0m\u001b[0;34m.\u001b[0m\u001b[0mobj\u001b[0m\u001b[0;34m)\u001b[0m\u001b[0;34m\u001b[0m\u001b[0;34m\u001b[0m\u001b[0m\n\u001b[1;32m    204\u001b[0m         \u001b[0mindexer\u001b[0m \u001b[0;34m=\u001b[0m \u001b[0mself\u001b[0m\u001b[0;34m.\u001b[0m\u001b[0m_get_setitem_indexer\u001b[0m\u001b[0;34m(\u001b[0m\u001b[0mkey\u001b[0m\u001b[0;34m)\u001b[0m\u001b[0;34m\u001b[0m\u001b[0;34m\u001b[0m\u001b[0m\n\u001b[0;32m--> 205\u001b[0;31m         \u001b[0mself\u001b[0m\u001b[0;34m.\u001b[0m\u001b[0m_setitem_with_indexer\u001b[0m\u001b[0;34m(\u001b[0m\u001b[0mindexer\u001b[0m\u001b[0;34m,\u001b[0m \u001b[0mvalue\u001b[0m\u001b[0;34m)\u001b[0m\u001b[0;34m\u001b[0m\u001b[0;34m\u001b[0m\u001b[0m\n\u001b[0m\u001b[1;32m    206\u001b[0m \u001b[0;34m\u001b[0m\u001b[0m\n\u001b[1;32m    207\u001b[0m     \u001b[0;32mdef\u001b[0m \u001b[0m_validate_key\u001b[0m\u001b[0;34m(\u001b[0m\u001b[0mself\u001b[0m\u001b[0;34m,\u001b[0m \u001b[0mkey\u001b[0m\u001b[0;34m,\u001b[0m \u001b[0maxis\u001b[0m\u001b[0;34m:\u001b[0m \u001b[0mint\u001b[0m\u001b[0;34m)\u001b[0m\u001b[0;34m:\u001b[0m\u001b[0;34m\u001b[0m\u001b[0;34m\u001b[0m\u001b[0m\n",
      "\u001b[0;32m~/anaconda3/lib/python3.7/site-packages/pandas/core/indexing.py\u001b[0m in \u001b[0;36m_setitem_with_indexer\u001b[0;34m(self, indexer, value)\u001b[0m\n\u001b[1;32m    592\u001b[0m             \u001b[0mself\u001b[0m\u001b[0;34m.\u001b[0m\u001b[0mobj\u001b[0m\u001b[0;34m.\u001b[0m\u001b[0m_consolidate_inplace\u001b[0m\u001b[0;34m(\u001b[0m\u001b[0;34m)\u001b[0m\u001b[0;34m\u001b[0m\u001b[0;34m\u001b[0m\u001b[0m\n\u001b[1;32m    593\u001b[0m             \u001b[0mself\u001b[0m\u001b[0;34m.\u001b[0m\u001b[0mobj\u001b[0m\u001b[0;34m.\u001b[0m\u001b[0m_data\u001b[0m \u001b[0;34m=\u001b[0m \u001b[0mself\u001b[0m\u001b[0;34m.\u001b[0m\u001b[0mobj\u001b[0m\u001b[0;34m.\u001b[0m\u001b[0m_data\u001b[0m\u001b[0;34m.\u001b[0m\u001b[0msetitem\u001b[0m\u001b[0;34m(\u001b[0m\u001b[0mindexer\u001b[0m\u001b[0;34m=\u001b[0m\u001b[0mindexer\u001b[0m\u001b[0;34m,\u001b[0m \u001b[0mvalue\u001b[0m\u001b[0;34m=\u001b[0m\u001b[0mvalue\u001b[0m\u001b[0;34m)\u001b[0m\u001b[0;34m\u001b[0m\u001b[0;34m\u001b[0m\u001b[0m\n\u001b[0;32m--> 594\u001b[0;31m             \u001b[0mself\u001b[0m\u001b[0;34m.\u001b[0m\u001b[0mobj\u001b[0m\u001b[0;34m.\u001b[0m\u001b[0m_maybe_update_cacher\u001b[0m\u001b[0;34m(\u001b[0m\u001b[0mclear\u001b[0m\u001b[0;34m=\u001b[0m\u001b[0;32mTrue\u001b[0m\u001b[0;34m)\u001b[0m\u001b[0;34m\u001b[0m\u001b[0;34m\u001b[0m\u001b[0m\n\u001b[0m\u001b[1;32m    595\u001b[0m \u001b[0;34m\u001b[0m\u001b[0m\n\u001b[1;32m    596\u001b[0m     \u001b[0;32mdef\u001b[0m \u001b[0m_setitem_with_indexer_missing\u001b[0m\u001b[0;34m(\u001b[0m\u001b[0mself\u001b[0m\u001b[0;34m,\u001b[0m \u001b[0mindexer\u001b[0m\u001b[0;34m,\u001b[0m \u001b[0mvalue\u001b[0m\u001b[0;34m)\u001b[0m\u001b[0;34m:\u001b[0m\u001b[0;34m\u001b[0m\u001b[0;34m\u001b[0m\u001b[0m\n",
      "\u001b[0;32m~/anaconda3/lib/python3.7/site-packages/pandas/core/generic.py\u001b[0m in \u001b[0;36m_maybe_update_cacher\u001b[0;34m(self, clear, verify_is_copy)\u001b[0m\n\u001b[1;32m   3346\u001b[0m             \u001b[0;32melse\u001b[0m\u001b[0;34m:\u001b[0m\u001b[0;34m\u001b[0m\u001b[0;34m\u001b[0m\u001b[0m\n\u001b[1;32m   3347\u001b[0m                 \u001b[0;32mtry\u001b[0m\u001b[0;34m:\u001b[0m\u001b[0;34m\u001b[0m\u001b[0;34m\u001b[0m\u001b[0m\n\u001b[0;32m-> 3348\u001b[0;31m                     \u001b[0mref\u001b[0m\u001b[0;34m.\u001b[0m\u001b[0m_maybe_cache_changed\u001b[0m\u001b[0;34m(\u001b[0m\u001b[0mcacher\u001b[0m\u001b[0;34m[\u001b[0m\u001b[0;36m0\u001b[0m\u001b[0;34m]\u001b[0m\u001b[0;34m,\u001b[0m \u001b[0mself\u001b[0m\u001b[0;34m)\u001b[0m\u001b[0;34m\u001b[0m\u001b[0;34m\u001b[0m\u001b[0m\n\u001b[0m\u001b[1;32m   3349\u001b[0m                 \u001b[0;32mexcept\u001b[0m \u001b[0mException\u001b[0m\u001b[0;34m:\u001b[0m\u001b[0;34m\u001b[0m\u001b[0;34m\u001b[0m\u001b[0m\n\u001b[1;32m   3350\u001b[0m                     \u001b[0;32mpass\u001b[0m\u001b[0;34m\u001b[0m\u001b[0;34m\u001b[0m\u001b[0m\n",
      "\u001b[0;32m~/anaconda3/lib/python3.7/site-packages/pandas/core/generic.py\u001b[0m in \u001b[0;36m_maybe_cache_changed\u001b[0;34m(self, item, value)\u001b[0m\n\u001b[1;32m   3303\u001b[0m         \"\"\"The object has called back to us saying maybe it has changed.\n\u001b[1;32m   3304\u001b[0m         \"\"\"\n\u001b[0;32m-> 3305\u001b[0;31m         \u001b[0mself\u001b[0m\u001b[0;34m.\u001b[0m\u001b[0m_data\u001b[0m\u001b[0;34m.\u001b[0m\u001b[0mset\u001b[0m\u001b[0;34m(\u001b[0m\u001b[0mitem\u001b[0m\u001b[0;34m,\u001b[0m \u001b[0mvalue\u001b[0m\u001b[0;34m)\u001b[0m\u001b[0;34m\u001b[0m\u001b[0;34m\u001b[0m\u001b[0m\n\u001b[0m\u001b[1;32m   3306\u001b[0m \u001b[0;34m\u001b[0m\u001b[0m\n\u001b[1;32m   3307\u001b[0m     \u001b[0;34m@\u001b[0m\u001b[0mproperty\u001b[0m\u001b[0;34m\u001b[0m\u001b[0;34m\u001b[0m\u001b[0m\n",
      "\u001b[0;32m~/anaconda3/lib/python3.7/site-packages/pandas/core/internals/managers.py\u001b[0m in \u001b[0;36mset\u001b[0;34m(self, item, value)\u001b[0m\n\u001b[1;32m   1067\u001b[0m \u001b[0;34m\u001b[0m\u001b[0m\n\u001b[1;32m   1068\u001b[0m         \u001b[0;32mtry\u001b[0m\u001b[0;34m:\u001b[0m\u001b[0;34m\u001b[0m\u001b[0;34m\u001b[0m\u001b[0m\n\u001b[0;32m-> 1069\u001b[0;31m             \u001b[0mloc\u001b[0m \u001b[0;34m=\u001b[0m \u001b[0mself\u001b[0m\u001b[0;34m.\u001b[0m\u001b[0mitems\u001b[0m\u001b[0;34m.\u001b[0m\u001b[0mget_loc\u001b[0m\u001b[0;34m(\u001b[0m\u001b[0mitem\u001b[0m\u001b[0;34m)\u001b[0m\u001b[0;34m\u001b[0m\u001b[0;34m\u001b[0m\u001b[0m\n\u001b[0m\u001b[1;32m   1070\u001b[0m         \u001b[0;32mexcept\u001b[0m \u001b[0mKeyError\u001b[0m\u001b[0;34m:\u001b[0m\u001b[0;34m\u001b[0m\u001b[0;34m\u001b[0m\u001b[0m\n\u001b[1;32m   1071\u001b[0m             \u001b[0;31m# This item wasn't present, just insert at end\u001b[0m\u001b[0;34m\u001b[0m\u001b[0;34m\u001b[0m\u001b[0;34m\u001b[0m\u001b[0m\n",
      "\u001b[0;32m~/anaconda3/lib/python3.7/site-packages/pandas/core/indexes/base.py\u001b[0m in \u001b[0;36mget_loc\u001b[0;34m(self, key, method, tolerance)\u001b[0m\n\u001b[1;32m   2886\u001b[0m         \"\"\"\n\u001b[1;32m   2887\u001b[0m \u001b[0;34m\u001b[0m\u001b[0m\n\u001b[0;32m-> 2888\u001b[0;31m     \u001b[0;34m@\u001b[0m\u001b[0mAppender\u001b[0m\u001b[0;34m(\u001b[0m\u001b[0m_index_shared_docs\u001b[0m\u001b[0;34m[\u001b[0m\u001b[0;34m\"get_loc\"\u001b[0m\u001b[0;34m]\u001b[0m\u001b[0;34m)\u001b[0m\u001b[0;34m\u001b[0m\u001b[0;34m\u001b[0m\u001b[0m\n\u001b[0m\u001b[1;32m   2889\u001b[0m     \u001b[0;32mdef\u001b[0m \u001b[0mget_loc\u001b[0m\u001b[0;34m(\u001b[0m\u001b[0mself\u001b[0m\u001b[0;34m,\u001b[0m \u001b[0mkey\u001b[0m\u001b[0;34m,\u001b[0m \u001b[0mmethod\u001b[0m\u001b[0;34m=\u001b[0m\u001b[0;32mNone\u001b[0m\u001b[0;34m,\u001b[0m \u001b[0mtolerance\u001b[0m\u001b[0;34m=\u001b[0m\u001b[0;32mNone\u001b[0m\u001b[0;34m)\u001b[0m\u001b[0;34m:\u001b[0m\u001b[0;34m\u001b[0m\u001b[0;34m\u001b[0m\u001b[0m\n\u001b[1;32m   2890\u001b[0m         \u001b[0;32mif\u001b[0m \u001b[0mmethod\u001b[0m \u001b[0;32mis\u001b[0m \u001b[0;32mNone\u001b[0m\u001b[0;34m:\u001b[0m\u001b[0;34m\u001b[0m\u001b[0;34m\u001b[0m\u001b[0m\n",
      "\u001b[0;31mKeyboardInterrupt\u001b[0m: "
     ]
    }
   ],
   "source": [
    "df_new = df.assign(年1=np.nan,月1=np.nan,日1=np.nan,馬名1=np.nan,馬番1=np.nan,枠番1=np.nan,年齢1=np.nan,性別1=np.nan,馬体重1=np.nan,斤量1=np.nan,場所1=np.nan,頭数1=np.nan,距離1=np.nan,馬場状態1=np.nan,天候1=np.nan,人気1=np.nan,単勝オッズ1=np.nan,確定着順1=np.nan,タイムS1=np.nan,着差タイム1=np.nan,トラックコード1=np.nan,\\\n",
    "                  年2=np.nan,月2=np.nan,日2=np.nan,馬名2=np.nan,馬番2=np.nan,枠番2=np.nan,年齢2=np.nan,性別2=np.nan,馬体重2=np.nan,斤量2=np.nan,場所2=np.nan,頭数2=np.nan,距離2=np.nan,馬場状態2=np.nan,天候2=np.nan,人気2=np.nan,単勝オッズ2=np.nan,確定着順2=np.nan,タイムS2=np.nan,着差タイム2=np.nan,トラックコード2=np.nan,\\\n",
    "                  年3=np.nan,月3=np.nan,日3=np.nan,馬名3=np.nan,馬番3=np.nan,枠番3=np.nan,年齢3=np.nan,性別3=np.nan,馬体重3=np.nan,斤量3=np.nan,場所3=np.nan,頭数3=np.nan,距離3=np.nan,馬場状態3=np.nan,天候3=np.nan,人気3=np.nan,単勝オッズ3=np.nan,確定着順3=np.nan,タイムS3=np.nan,着差タイム3=np.nan,トラックコード3=np.nan,\\\n",
    "                  年4=np.nan,月4=np.nan,日4=np.nan,馬名4=np.nan,馬番4=np.nan,枠番4=np.nan,年齢4=np.nan,性別4=np.nan,馬体重4=np.nan,斤量4=np.nan,場所4=np.nan,頭数4=np.nan,距離4=np.nan,馬場状態4=np.nan,天候4=np.nan,人気4=np.nan,単勝オッズ4=np.nan,確定着順4=np.nan,タイムS4=np.nan,着差タイム4=np.nan,トラックコード4=np.nan,\\\n",
    "                  年5=np.nan,月5=np.nan,日5=np.nan,馬名5=np.nan,馬番5=np.nan,枠番5=np.nan,年齢5=np.nan,性別5=np.nan,馬体重5=np.nan,斤量5=np.nan,場所5=np.nan,頭数5=np.nan,距離5=np.nan,馬場状態5=np.nan,天候5=np.nan,人気5=np.nan,単勝オッズ5=np.nan,確定着順5=np.nan,タイムS5=np.nan,着差タイム5=np.nan,トラックコード5=np.nan)\n",
    "datasize = df_new.size\n",
    "for i in range(datasize-5):\n",
    "    print(i)\n",
    "    if df['馬名'].iloc[i] == df['馬名'].iloc[i+5]:\n",
    "        for j in range(5):\n",
    "            df_new['年' + str(j+1)].iloc[i] = df['年'].iloc[i+j+1]\n",
    "            df_new['月' + str(j+1)].iloc[i] = df['月'].iloc[i+j+1]\n",
    "            df_new['日' + str(j+1)].iloc[i] = df['日'].iloc[i+j+1]\n",
    "            df_new['馬名' + str(j+1)].iloc[i] = df['馬名'].iloc[i+j+1]\n",
    "            df_new['馬番' + str(j+1)].iloc[i] = df['馬番'].iloc[i+j+1]\n",
    "            df_new['枠番' + str(j+1)].iloc[i] = df['枠番'].iloc[i+j+1]\n",
    "            df_new['年齢' + str(j+1)].iloc[i] = df['年齢'].iloc[i+j+1]\n",
    "            df_new['性別' + str(j+1)].iloc[i] = df['性別'].iloc[i+j+1]\n",
    "            df_new['馬体重' + str(j+1)].iloc[i] = df['馬体重'].iloc[i+j+1]\n",
    "            df_new['斤量' + str(j+1)].iloc[i] = df['斤量'].iloc[i+j+1]\n",
    "            df_new['場所' + str(j+1)].iloc[i] = df['場所'].iloc[i+j+1]\n",
    "            df_new['頭数' + str(j+1)].iloc[i] = df['頭数'].iloc[i+j+1]\n",
    "            df_new['距離' + str(j+1)].iloc[i] = df['距離'].iloc[i+j+1]\n",
    "            df_new['馬場状態' + str(j+1)].iloc[i] = df['馬場状態'].iloc[i+j+1]\n",
    "            df_new['天候' + str(j+1)].iloc[i] = df['天候'].iloc[i+j+1]\n",
    "            df_new['人気' + str(j+1)].iloc[i] = df['人気'].iloc[i+j+1]\n",
    "            df_new['単勝オッズ' + str(j+1)].iloc[i] = df['単勝オッズ'].iloc[i+j+1]\n",
    "            df_new['確定着順' + str(j+1)].iloc[i] = df['確定着順'].iloc[i+j+1]\n",
    "            df_new['タイムS' + str(j+1)].iloc[i] = df['タイムS'].iloc[i+j+1]\n",
    "            df_new['着差タイム' + str(j+1)].iloc[i] = df['着差タイム'].iloc[i+j+1]\n",
    "            df_new['トラックコード' + str(j+1)].iloc[i] = df['トラックコード'].iloc[i+j+1]\n",
    "print(df_new)"
   ]
  },
  {
   "cell_type": "markdown",
   "metadata": {},
   "source": [
    "馬名は学習には使わないので削除\n",
    "型をfloatに変換"
   ]
  },
  {
   "cell_type": "code",
   "execution_count": null,
   "metadata": {
    "scrolled": true
   },
   "outputs": [],
   "source": [
    "df = df_new\n",
    "df = df.drop(columns='馬名')\n",
    "df = df.drop(columns='馬名1')\n",
    "df = df.drop(columns='馬名2')\n",
    "df = df.drop(columns='馬名3')\n",
    "df = df.drop(columns='馬名4')\n",
    "df = df.drop(columns='馬名5')\n",
    "df = df.astype(float)\n",
    "#欠損値は0.0で埋める(着差タイムのどこかにNANがあるかも、、、)\n",
    "df = df.fillna(0.0)"
   ]
  },
  {
   "cell_type": "markdown",
   "metadata": {},
   "source": [
    "保存"
   ]
  },
  {
   "cell_type": "code",
   "execution_count": null,
   "metadata": {},
   "outputs": [],
   "source": [
    "df.to_csv(\"./train_data.csv\")"
   ]
  },
  {
   "cell_type": "markdown",
   "metadata": {},
   "source": [
    "学習データとテストデータに分割"
   ]
  },
  {
   "cell_type": "code",
   "execution_count": null,
   "metadata": {
    "scrolled": true
   },
   "outputs": [],
   "source": [
    "df_20 = df.query(\"年 > 19\")\n",
    "print(df.query(\"年 > 19\"))"
   ]
  }
 ],
 "metadata": {
  "kernelspec": {
   "display_name": "Python 3",
   "language": "python",
   "name": "python3"
  },
  "language_info": {
   "codemirror_mode": {
    "name": "ipython",
    "version": 3
   },
   "file_extension": ".py",
   "mimetype": "text/x-python",
   "name": "python",
   "nbconvert_exporter": "python",
   "pygments_lexer": "ipython3",
   "version": "3.7.4"
  }
 },
 "nbformat": 4,
 "nbformat_minor": 2
}
